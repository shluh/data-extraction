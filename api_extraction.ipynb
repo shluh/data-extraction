{
 "cells": [
  {
   "cell_type": "markdown",
   "id": "4bf14c6b-4293-468a-a38b-c2d06bbeec6c",
   "metadata": {},
   "source": [
    "# Extraindo dados de uma API"
   ]
  },
  {
   "cell_type": "markdown",
   "id": "36b6eeeb-cd13-4b52-8d27-c7d5d1777986",
   "metadata": {},
   "source": [
    "## Importando pacote necessário para efetuar requisição à um endpoint de API"
   ]
  },
  {
   "cell_type": "code",
   "execution_count": 1,
   "id": "3b105887-9dcb-4c66-af5a-ea7723574d17",
   "metadata": {},
   "outputs": [],
   "source": [
    "import requests"
   ]
  },
  {
   "cell_type": "markdown",
   "id": "c9a18ead-cea4-436a-bdf6-2b3df06275fd",
   "metadata": {},
   "source": [
    "## Efetuando requisição a um ednpoint de um API"
   ]
  },
  {
   "cell_type": "code",
   "execution_count": 2,
   "id": "dec40f4c-f7b8-4579-9e6e-4d8ce0a1dd05",
   "metadata": {},
   "outputs": [],
   "source": [
    "response = requests.get(\"https://randomuser.me/api/\")"
   ]
  },
  {
   "cell_type": "markdown",
   "id": "413fa82d-fc78-4e55-a244-bacd72dcb5fe",
   "metadata": {},
   "source": [
    "## Verificando o conteúdo da resposta da requisição ao endpoint"
   ]
  },
  {
   "cell_type": "code",
   "execution_count": 3,
   "id": "33e67ff3-8e6f-4825-977c-b2159d25d337",
   "metadata": {},
   "outputs": [
    {
     "data": {
      "text/plain": [
       "b'{\"results\":[{\"gender\":\"female\",\"name\":{\"title\":\"Ms\",\"first\":\"Robin\",\"last\":\"Steward\"},\"location\":{\"street\":{\"number\":3646,\"name\":\"Dane St\"},\"city\":\"Cedar Hill\",\"state\":\"Rhode Island\",\"country\":\"United States\",\"postcode\":49207,\"coordinates\":{\"latitude\":\"88.8306\",\"longitude\":\"145.5361\"},\"timezone\":{\"offset\":\"+4:00\",\"description\":\"Abu Dhabi, Muscat, Baku, Tbilisi\"}},\"email\":\"robin.steward@example.com\",\"login\":{\"uuid\":\"cdd9522c-62d9-4ef1-8343-89b20ae99e2f\",\"username\":\"brownleopard661\",\"password\":\"dildo\",\"salt\":\"j1I70gGo\",\"md5\":\"a5c50815ee3018c23491f0b44724e7f7\",\"sha1\":\"e274105cd9c5b8a91aea526579191a90c29d55ab\",\"sha256\":\"b534df56098674162850a7a5f8a2199f86ebc59f1ef6df4abd7808aa244f3a67\"},\"dob\":{\"date\":\"1983-02-04T10:12:53.771Z\",\"age\":39},\"registered\":{\"date\":\"2005-06-24T18:36:47.192Z\",\"age\":17},\"phone\":\"(685)-681-9289\",\"cell\":\"(797)-807-8360\",\"id\":{\"name\":\"SSN\",\"value\":\"758-95-1574\"},\"picture\":{\"large\":\"https://randomuser.me/api/portraits/women/1.jpg\",\"medium\":\"https://randomuser.me/api/portraits/med/women/1.jpg\",\"thumbnail\":\"https://randomuser.me/api/portraits/thumb/women/1.jpg\"},\"nat\":\"US\"}],\"info\":{\"seed\":\"c587f2c6093728c8\",\"results\":1,\"page\":1,\"version\":\"1.3\"}}'"
      ]
     },
     "execution_count": 3,
     "metadata": {},
     "output_type": "execute_result"
    }
   ],
   "source": [
    "response.content"
   ]
  },
  {
   "cell_type": "markdown",
   "id": "fbe0bf09-15d5-4058-a2f6-bb7546cf488f",
   "metadata": {},
   "source": [
    "## Transformando a resposta da requisição endpoint em um JSON"
   ]
  },
  {
   "cell_type": "code",
   "execution_count": 4,
   "id": "da32caec-0bdc-4c69-a34b-169978bb9cdb",
   "metadata": {},
   "outputs": [
    {
     "data": {
      "text/plain": [
       "{'results': [{'gender': 'female',\n",
       "   'name': {'title': 'Ms', 'first': 'Robin', 'last': 'Steward'},\n",
       "   'location': {'street': {'number': 3646, 'name': 'Dane St'},\n",
       "    'city': 'Cedar Hill',\n",
       "    'state': 'Rhode Island',\n",
       "    'country': 'United States',\n",
       "    'postcode': 49207,\n",
       "    'coordinates': {'latitude': '88.8306', 'longitude': '145.5361'},\n",
       "    'timezone': {'offset': '+4:00',\n",
       "     'description': 'Abu Dhabi, Muscat, Baku, Tbilisi'}},\n",
       "   'email': 'robin.steward@example.com',\n",
       "   'login': {'uuid': 'cdd9522c-62d9-4ef1-8343-89b20ae99e2f',\n",
       "    'username': 'brownleopard661',\n",
       "    'password': 'dildo',\n",
       "    'salt': 'j1I70gGo',\n",
       "    'md5': 'a5c50815ee3018c23491f0b44724e7f7',\n",
       "    'sha1': 'e274105cd9c5b8a91aea526579191a90c29d55ab',\n",
       "    'sha256': 'b534df56098674162850a7a5f8a2199f86ebc59f1ef6df4abd7808aa244f3a67'},\n",
       "   'dob': {'date': '1983-02-04T10:12:53.771Z', 'age': 39},\n",
       "   'registered': {'date': '2005-06-24T18:36:47.192Z', 'age': 17},\n",
       "   'phone': '(685)-681-9289',\n",
       "   'cell': '(797)-807-8360',\n",
       "   'id': {'name': 'SSN', 'value': '758-95-1574'},\n",
       "   'picture': {'large': 'https://randomuser.me/api/portraits/women/1.jpg',\n",
       "    'medium': 'https://randomuser.me/api/portraits/med/women/1.jpg',\n",
       "    'thumbnail': 'https://randomuser.me/api/portraits/thumb/women/1.jpg'},\n",
       "   'nat': 'US'}],\n",
       " 'info': {'seed': 'c587f2c6093728c8',\n",
       "  'results': 1,\n",
       "  'page': 1,\n",
       "  'version': '1.3'}}"
      ]
     },
     "execution_count": 4,
     "metadata": {},
     "output_type": "execute_result"
    }
   ],
   "source": [
    "info = response.json()\n",
    "info"
   ]
  },
  {
   "cell_type": "markdown",
   "id": "2d3e8b75-0a98-463f-8aea-8173a314d33c",
   "metadata": {},
   "source": [
    "## Acessando algum elemento do arquivo JSON"
   ]
  },
  {
   "cell_type": "code",
   "execution_count": 6,
   "id": "3d591ab2-86cd-41e2-9e07-b97e33bfc165",
   "metadata": {},
   "outputs": [
    {
     "data": {
      "text/plain": [
       "'Cedar Hill'"
      ]
     },
     "execution_count": 6,
     "metadata": {},
     "output_type": "execute_result"
    }
   ],
   "source": [
    "info['results'][0]['location']['city']"
   ]
  }
 ],
 "metadata": {
  "kernelspec": {
   "display_name": "Python 3 (ipykernel)",
   "language": "python",
   "name": "python3"
  },
  "language_info": {
   "codemirror_mode": {
    "name": "ipython",
    "version": 3
   },
   "file_extension": ".py",
   "mimetype": "text/x-python",
   "name": "python",
   "nbconvert_exporter": "python",
   "pygments_lexer": "ipython3",
   "version": "3.8.9"
  }
 },
 "nbformat": 4,
 "nbformat_minor": 5
}

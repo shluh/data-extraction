{
 "cells": [
  {
   "cell_type": "markdown",
   "id": "e9c5a33f-e867-4e20-9068-2e0661386ca7",
   "metadata": {},
   "source": [
    "# Extraindo Dados de um Banco Relacional SQLite"
   ]
  },
  {
   "cell_type": "markdown",
   "id": "829cb99d-a2ae-4c9d-974e-414a8f950447",
   "metadata": {},
   "source": [
    "## Importando pacote necessário para efetuar a conexão com o banco de dados(já vem por padrão instalado junto a linguagem Python) "
   ]
  },
  {
   "cell_type": "code",
   "execution_count": 1,
   "id": "7a002eba-a18d-46e0-ad0c-d720ead47491",
   "metadata": {},
   "outputs": [],
   "source": [
    "import sqlite3"
   ]
  },
  {
   "cell_type": "markdown",
   "id": "16bf8850-b920-4bba-8df3-3e0779927e49",
   "metadata": {},
   "source": [
    "## Criando conexão com o banco de dados passando o nome do banco"
   ]
  },
  {
   "cell_type": "code",
   "execution_count": 2,
   "id": "ed56516c-5e0b-4a3d-973f-1c5d71401ed7",
   "metadata": {},
   "outputs": [],
   "source": [
    "conn = sqlite3.connect('test.db')"
   ]
  },
  {
   "cell_type": "markdown",
   "id": "bf8f6e81-eb74-42ff-a7df-31214f90e2b7",
   "metadata": {},
   "source": [
    "## Executando uma script SQL de seleção de dados no banco de dados e exibindo o resultado"
   ]
  },
  {
   "cell_type": "code",
   "execution_count": 3,
   "id": "980de82f-baf7-4384-aa9d-f0b2d9389af5",
   "metadata": {},
   "outputs": [
    {
     "name": "stdout",
     "output_type": "stream",
     "text": [
      "ID =  1\n",
      "NAME =  Paul\n",
      "ADDRESS =  California\n",
      "SALARY =  20000.0 \n",
      "\n",
      "ID =  2\n",
      "NAME =  Allen\n",
      "ADDRESS =  Texas\n",
      "SALARY =  15000.0 \n",
      "\n",
      "ID =  3\n",
      "NAME =  Teddy\n",
      "ADDRESS =  Norway\n",
      "SALARY =  20000.0 \n",
      "\n",
      "ID =  4\n",
      "NAME =  Mark\n",
      "ADDRESS =  Rich-Mond \n",
      "SALARY =  65000.0 \n",
      "\n"
     ]
    }
   ],
   "source": [
    "cursor = conn.execute(\"SELECT id, name, address, salary from COMPANY\")\n",
    "for row in cursor:\n",
    "   print (\"ID = \", row[0])\n",
    "   print (\"NAME = \", row[1])\n",
    "   print (\"ADDRESS = \", row[2])\n",
    "   print (\"SALARY = \", row[3], \"\\n\")"
   ]
  },
  {
   "cell_type": "markdown",
   "id": "bce38a51-6c6d-4bd7-a382-b7dc0eed37d9",
   "metadata": {},
   "source": [
    "# Extraindo Dados de um Banco Relacional MySQL"
   ]
  },
  {
   "cell_type": "code",
   "execution_count": null,
   "id": "9e6f4b6c-6511-483d-af23-45bb967fcef0",
   "metadata": {},
   "outputs": [],
   "source": [
    "import mysql.connector"
   ]
  },
  {
   "cell_type": "code",
   "execution_count": null,
   "id": "538a0bb7-ad62-4634-a748-7ed7d7a4e03c",
   "metadata": {},
   "outputs": [],
   "source": [
    "try:\n",
    "    connection = mysql.connector.connect(host='localhost',\n",
    "                                         database='database',\n",
    "                                         user='user',\n",
    "                                         password='password')\n",
    "    if connection.is_connected():\n",
    "        db_Info = connection.get_server_info()\n",
    "        print(\"Connected to MySQL Server version \", db_Info)\n",
    "        cursor = connection.cursor()\n",
    "        cursor.execute(\"select database();\")\n",
    "        record = cursor.fetchone()\n",
    "        print(\"You're connected to database: \", record)\n",
    "        \n",
    "        mySql_Create_Table_Query = \"\"\"SELECT * FROM heart \"\"\"\n",
    "\n",
    "    cursor = connection.cursor()\n",
    "    result = cursor.execute(mySql_Create_Table_Query)\n",
    "    print(result)\n",
    "\n",
    "except Error as e:\n",
    "    print(\"Error while connecting to MySQL\", e)\n",
    "finally:\n",
    "    if connection.is_connected():\n",
    "        cursor.close()\n",
    "        connection.close()\n",
    "        print(\"MySQL connection is closed\")"
   ]
  }
 ],
 "metadata": {
  "kernelspec": {
   "display_name": "Python 3 (ipykernel)",
   "language": "python",
   "name": "python3"
  },
  "language_info": {
   "codemirror_mode": {
    "name": "ipython",
    "version": 3
   },
   "file_extension": ".py",
   "mimetype": "text/x-python",
   "name": "python",
   "nbconvert_exporter": "python",
   "pygments_lexer": "ipython3",
   "version": "3.8.9"
  }
 },
 "nbformat": 4,
 "nbformat_minor": 5
}
